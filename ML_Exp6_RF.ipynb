{
  "nbformat": 4,
  "nbformat_minor": 0,
  "metadata": {
    "colab": {
      "provenance": [],
      "include_colab_link": true
    },
    "kernelspec": {
      "name": "python3",
      "display_name": "Python 3"
    },
    "language_info": {
      "name": "python"
    }
  },
  "cells": [
    {
      "cell_type": "markdown",
      "metadata": {
        "id": "view-in-github",
        "colab_type": "text"
      },
      "source": [
        "<a href=\"https://colab.research.google.com/github/dwishashah/Machine-Learning/blob/main/ML_Exp6_RF.ipynb\" target=\"_parent\"><img src=\"https://colab.research.google.com/assets/colab-badge.svg\" alt=\"Open In Colab\"/></a>"
      ]
    },
    {
      "cell_type": "code",
      "execution_count": null,
      "metadata": {
        "id": "vqXiTwSkP2gy"
      },
      "outputs": [],
      "source": [
        "import numpy as np \n",
        "import pandas as pd \n",
        "import matplotlib.pyplot as plt \n",
        "import seaborn as sns \n",
        "%matplotlib inline"
      ]
    },
    {
      "cell_type": "code",
      "source": [
        "df = pd.read_csv('/content/2011.csv')"
      ],
      "metadata": {
        "id": "9Zant-beaIZR"
      },
      "execution_count": null,
      "outputs": []
    },
    {
      "cell_type": "code",
      "source": [
        "df.head(10)"
      ],
      "metadata": {
        "id": "005L2VoRdP1m",
        "colab": {
          "base_uri": "https://localhost:8080/",
          "height": 456
        },
        "outputId": "afeb1445-38be-4fd5-819f-1d6adafcb682"
      },
      "execution_count": null,
      "outputs": [
        {
          "output_type": "execute_result",
          "data": {
            "text/plain": [
              "   _STATE  _GEOSTR  _DENSTR2  PRECALL   REPNUM  REPDEPTH  FMONTH        IDATE  \\\n",
              "0     1.0      1.0       1.0      1.0  10001.0      27.0     1.0  b'01202011'   \n",
              "1     1.0      1.0       1.0      1.0  10008.0      13.0     1.0  b'01142011'   \n",
              "2     1.0      5.0       1.0      1.0  10058.0       4.0     1.0  b'01062011'   \n",
              "3     1.0      7.0       1.0      1.0  10079.0       7.0     1.0  b'02012011'   \n",
              "4     1.0      7.0       1.0      1.0  10081.0      28.0     1.0  b'02012011'   \n",
              "5     1.0      7.0       1.0      1.0  10082.0       3.0     1.0  b'01062011'   \n",
              "6     1.0      7.0       1.0      1.0  10087.0      24.0     1.0  b'02012011'   \n",
              "7     1.0     10.0       2.0      1.0  10126.0      12.0     1.0  b'01062011'   \n",
              "8     1.0     11.0       1.0      1.0  10137.0       4.0     1.0  b'01062011'   \n",
              "9     1.0     14.0       1.0      1.0  10167.0      15.0     1.0  b'02012011'   \n",
              "\n",
              "  IMONTH   IDAY  ... DRNKANY5      DROCDY3_  _RFBING5      _DRNKDY4  \\\n",
              "0  b'01'  b'20'  ...      1.0  4.300000e+01       1.0  8.600000e+01   \n",
              "1  b'01'  b'14'  ...      9.0  9.000000e+02       9.0  9.900000e+03   \n",
              "2  b'01'  b'06'  ...      1.0  1.400000e+01       1.0  1.400000e+01   \n",
              "3  b'02'  b'01'  ...      9.0  9.000000e+02       9.0  9.900000e+03   \n",
              "4  b'02'  b'01'  ...      2.0  5.397605e-79       1.0  5.397605e-79   \n",
              "5  b'01'  b'06'  ...      2.0  5.397605e-79       1.0  5.397605e-79   \n",
              "6  b'02'  b'01'  ...      9.0  9.000000e+02       9.0  9.900000e+03   \n",
              "7  b'01'  b'06'  ...      2.0  5.397605e-79       1.0  5.397605e-79   \n",
              "8  b'01'  b'06'  ...      9.0  9.000000e+02       9.0  9.900000e+03   \n",
              "9  b'02'  b'01'  ...      9.0  9.000000e+02       9.0  9.900000e+03   \n",
              "\n",
              "       _DRNKMO4  _RFDRHV4  _RFDRMN4  _RFDRWM4  _AIDTST3  HAVHPAD  \n",
              "0  2.600000e+01       1.0       NaN       1.0       2.0      NaN  \n",
              "1  9.999000e+03       9.0       9.0       NaN       NaN      NaN  \n",
              "2  4.000000e+00       1.0       NaN       1.0       2.0      NaN  \n",
              "3  9.999000e+03       9.0       NaN       9.0       NaN      NaN  \n",
              "4  5.397605e-79       1.0       NaN       1.0       1.0      NaN  \n",
              "5  5.397605e-79       1.0       1.0       NaN       1.0      NaN  \n",
              "6  9.999000e+03       9.0       NaN       9.0       NaN      NaN  \n",
              "7  5.397605e-79       1.0       1.0       NaN       1.0      NaN  \n",
              "8  9.999000e+03       9.0       9.0       NaN       NaN      NaN  \n",
              "9  9.999000e+03       9.0       NaN       9.0       NaN      NaN  \n",
              "\n",
              "[10 rows x 454 columns]"
            ],
            "text/html": [
              "\n",
              "  <div id=\"df-8c28f4df-2bed-4da3-9779-ec184d91583e\">\n",
              "    <div class=\"colab-df-container\">\n",
              "      <div>\n",
              "<style scoped>\n",
              "    .dataframe tbody tr th:only-of-type {\n",
              "        vertical-align: middle;\n",
              "    }\n",
              "\n",
              "    .dataframe tbody tr th {\n",
              "        vertical-align: top;\n",
              "    }\n",
              "\n",
              "    .dataframe thead th {\n",
              "        text-align: right;\n",
              "    }\n",
              "</style>\n",
              "<table border=\"1\" class=\"dataframe\">\n",
              "  <thead>\n",
              "    <tr style=\"text-align: right;\">\n",
              "      <th></th>\n",
              "      <th>_STATE</th>\n",
              "      <th>_GEOSTR</th>\n",
              "      <th>_DENSTR2</th>\n",
              "      <th>PRECALL</th>\n",
              "      <th>REPNUM</th>\n",
              "      <th>REPDEPTH</th>\n",
              "      <th>FMONTH</th>\n",
              "      <th>IDATE</th>\n",
              "      <th>IMONTH</th>\n",
              "      <th>IDAY</th>\n",
              "      <th>...</th>\n",
              "      <th>DRNKANY5</th>\n",
              "      <th>DROCDY3_</th>\n",
              "      <th>_RFBING5</th>\n",
              "      <th>_DRNKDY4</th>\n",
              "      <th>_DRNKMO4</th>\n",
              "      <th>_RFDRHV4</th>\n",
              "      <th>_RFDRMN4</th>\n",
              "      <th>_RFDRWM4</th>\n",
              "      <th>_AIDTST3</th>\n",
              "      <th>HAVHPAD</th>\n",
              "    </tr>\n",
              "  </thead>\n",
              "  <tbody>\n",
              "    <tr>\n",
              "      <th>0</th>\n",
              "      <td>1.0</td>\n",
              "      <td>1.0</td>\n",
              "      <td>1.0</td>\n",
              "      <td>1.0</td>\n",
              "      <td>10001.0</td>\n",
              "      <td>27.0</td>\n",
              "      <td>1.0</td>\n",
              "      <td>b'01202011'</td>\n",
              "      <td>b'01'</td>\n",
              "      <td>b'20'</td>\n",
              "      <td>...</td>\n",
              "      <td>1.0</td>\n",
              "      <td>4.300000e+01</td>\n",
              "      <td>1.0</td>\n",
              "      <td>8.600000e+01</td>\n",
              "      <td>2.600000e+01</td>\n",
              "      <td>1.0</td>\n",
              "      <td>NaN</td>\n",
              "      <td>1.0</td>\n",
              "      <td>2.0</td>\n",
              "      <td>NaN</td>\n",
              "    </tr>\n",
              "    <tr>\n",
              "      <th>1</th>\n",
              "      <td>1.0</td>\n",
              "      <td>1.0</td>\n",
              "      <td>1.0</td>\n",
              "      <td>1.0</td>\n",
              "      <td>10008.0</td>\n",
              "      <td>13.0</td>\n",
              "      <td>1.0</td>\n",
              "      <td>b'01142011'</td>\n",
              "      <td>b'01'</td>\n",
              "      <td>b'14'</td>\n",
              "      <td>...</td>\n",
              "      <td>9.0</td>\n",
              "      <td>9.000000e+02</td>\n",
              "      <td>9.0</td>\n",
              "      <td>9.900000e+03</td>\n",
              "      <td>9.999000e+03</td>\n",
              "      <td>9.0</td>\n",
              "      <td>9.0</td>\n",
              "      <td>NaN</td>\n",
              "      <td>NaN</td>\n",
              "      <td>NaN</td>\n",
              "    </tr>\n",
              "    <tr>\n",
              "      <th>2</th>\n",
              "      <td>1.0</td>\n",
              "      <td>5.0</td>\n",
              "      <td>1.0</td>\n",
              "      <td>1.0</td>\n",
              "      <td>10058.0</td>\n",
              "      <td>4.0</td>\n",
              "      <td>1.0</td>\n",
              "      <td>b'01062011'</td>\n",
              "      <td>b'01'</td>\n",
              "      <td>b'06'</td>\n",
              "      <td>...</td>\n",
              "      <td>1.0</td>\n",
              "      <td>1.400000e+01</td>\n",
              "      <td>1.0</td>\n",
              "      <td>1.400000e+01</td>\n",
              "      <td>4.000000e+00</td>\n",
              "      <td>1.0</td>\n",
              "      <td>NaN</td>\n",
              "      <td>1.0</td>\n",
              "      <td>2.0</td>\n",
              "      <td>NaN</td>\n",
              "    </tr>\n",
              "    <tr>\n",
              "      <th>3</th>\n",
              "      <td>1.0</td>\n",
              "      <td>7.0</td>\n",
              "      <td>1.0</td>\n",
              "      <td>1.0</td>\n",
              "      <td>10079.0</td>\n",
              "      <td>7.0</td>\n",
              "      <td>1.0</td>\n",
              "      <td>b'02012011'</td>\n",
              "      <td>b'02'</td>\n",
              "      <td>b'01'</td>\n",
              "      <td>...</td>\n",
              "      <td>9.0</td>\n",
              "      <td>9.000000e+02</td>\n",
              "      <td>9.0</td>\n",
              "      <td>9.900000e+03</td>\n",
              "      <td>9.999000e+03</td>\n",
              "      <td>9.0</td>\n",
              "      <td>NaN</td>\n",
              "      <td>9.0</td>\n",
              "      <td>NaN</td>\n",
              "      <td>NaN</td>\n",
              "    </tr>\n",
              "    <tr>\n",
              "      <th>4</th>\n",
              "      <td>1.0</td>\n",
              "      <td>7.0</td>\n",
              "      <td>1.0</td>\n",
              "      <td>1.0</td>\n",
              "      <td>10081.0</td>\n",
              "      <td>28.0</td>\n",
              "      <td>1.0</td>\n",
              "      <td>b'02012011'</td>\n",
              "      <td>b'02'</td>\n",
              "      <td>b'01'</td>\n",
              "      <td>...</td>\n",
              "      <td>2.0</td>\n",
              "      <td>5.397605e-79</td>\n",
              "      <td>1.0</td>\n",
              "      <td>5.397605e-79</td>\n",
              "      <td>5.397605e-79</td>\n",
              "      <td>1.0</td>\n",
              "      <td>NaN</td>\n",
              "      <td>1.0</td>\n",
              "      <td>1.0</td>\n",
              "      <td>NaN</td>\n",
              "    </tr>\n",
              "    <tr>\n",
              "      <th>5</th>\n",
              "      <td>1.0</td>\n",
              "      <td>7.0</td>\n",
              "      <td>1.0</td>\n",
              "      <td>1.0</td>\n",
              "      <td>10082.0</td>\n",
              "      <td>3.0</td>\n",
              "      <td>1.0</td>\n",
              "      <td>b'01062011'</td>\n",
              "      <td>b'01'</td>\n",
              "      <td>b'06'</td>\n",
              "      <td>...</td>\n",
              "      <td>2.0</td>\n",
              "      <td>5.397605e-79</td>\n",
              "      <td>1.0</td>\n",
              "      <td>5.397605e-79</td>\n",
              "      <td>5.397605e-79</td>\n",
              "      <td>1.0</td>\n",
              "      <td>1.0</td>\n",
              "      <td>NaN</td>\n",
              "      <td>1.0</td>\n",
              "      <td>NaN</td>\n",
              "    </tr>\n",
              "    <tr>\n",
              "      <th>6</th>\n",
              "      <td>1.0</td>\n",
              "      <td>7.0</td>\n",
              "      <td>1.0</td>\n",
              "      <td>1.0</td>\n",
              "      <td>10087.0</td>\n",
              "      <td>24.0</td>\n",
              "      <td>1.0</td>\n",
              "      <td>b'02012011'</td>\n",
              "      <td>b'02'</td>\n",
              "      <td>b'01'</td>\n",
              "      <td>...</td>\n",
              "      <td>9.0</td>\n",
              "      <td>9.000000e+02</td>\n",
              "      <td>9.0</td>\n",
              "      <td>9.900000e+03</td>\n",
              "      <td>9.999000e+03</td>\n",
              "      <td>9.0</td>\n",
              "      <td>NaN</td>\n",
              "      <td>9.0</td>\n",
              "      <td>NaN</td>\n",
              "      <td>NaN</td>\n",
              "    </tr>\n",
              "    <tr>\n",
              "      <th>7</th>\n",
              "      <td>1.0</td>\n",
              "      <td>10.0</td>\n",
              "      <td>2.0</td>\n",
              "      <td>1.0</td>\n",
              "      <td>10126.0</td>\n",
              "      <td>12.0</td>\n",
              "      <td>1.0</td>\n",
              "      <td>b'01062011'</td>\n",
              "      <td>b'01'</td>\n",
              "      <td>b'06'</td>\n",
              "      <td>...</td>\n",
              "      <td>2.0</td>\n",
              "      <td>5.397605e-79</td>\n",
              "      <td>1.0</td>\n",
              "      <td>5.397605e-79</td>\n",
              "      <td>5.397605e-79</td>\n",
              "      <td>1.0</td>\n",
              "      <td>1.0</td>\n",
              "      <td>NaN</td>\n",
              "      <td>1.0</td>\n",
              "      <td>NaN</td>\n",
              "    </tr>\n",
              "    <tr>\n",
              "      <th>8</th>\n",
              "      <td>1.0</td>\n",
              "      <td>11.0</td>\n",
              "      <td>1.0</td>\n",
              "      <td>1.0</td>\n",
              "      <td>10137.0</td>\n",
              "      <td>4.0</td>\n",
              "      <td>1.0</td>\n",
              "      <td>b'01062011'</td>\n",
              "      <td>b'01'</td>\n",
              "      <td>b'06'</td>\n",
              "      <td>...</td>\n",
              "      <td>9.0</td>\n",
              "      <td>9.000000e+02</td>\n",
              "      <td>9.0</td>\n",
              "      <td>9.900000e+03</td>\n",
              "      <td>9.999000e+03</td>\n",
              "      <td>9.0</td>\n",
              "      <td>9.0</td>\n",
              "      <td>NaN</td>\n",
              "      <td>NaN</td>\n",
              "      <td>NaN</td>\n",
              "    </tr>\n",
              "    <tr>\n",
              "      <th>9</th>\n",
              "      <td>1.0</td>\n",
              "      <td>14.0</td>\n",
              "      <td>1.0</td>\n",
              "      <td>1.0</td>\n",
              "      <td>10167.0</td>\n",
              "      <td>15.0</td>\n",
              "      <td>1.0</td>\n",
              "      <td>b'02012011'</td>\n",
              "      <td>b'02'</td>\n",
              "      <td>b'01'</td>\n",
              "      <td>...</td>\n",
              "      <td>9.0</td>\n",
              "      <td>9.000000e+02</td>\n",
              "      <td>9.0</td>\n",
              "      <td>9.900000e+03</td>\n",
              "      <td>9.999000e+03</td>\n",
              "      <td>9.0</td>\n",
              "      <td>NaN</td>\n",
              "      <td>9.0</td>\n",
              "      <td>NaN</td>\n",
              "      <td>NaN</td>\n",
              "    </tr>\n",
              "  </tbody>\n",
              "</table>\n",
              "<p>10 rows × 454 columns</p>\n",
              "</div>\n",
              "      <button class=\"colab-df-convert\" onclick=\"convertToInteractive('df-8c28f4df-2bed-4da3-9779-ec184d91583e')\"\n",
              "              title=\"Convert this dataframe to an interactive table.\"\n",
              "              style=\"display:none;\">\n",
              "        \n",
              "  <svg xmlns=\"http://www.w3.org/2000/svg\" height=\"24px\"viewBox=\"0 0 24 24\"\n",
              "       width=\"24px\">\n",
              "    <path d=\"M0 0h24v24H0V0z\" fill=\"none\"/>\n",
              "    <path d=\"M18.56 5.44l.94 2.06.94-2.06 2.06-.94-2.06-.94-.94-2.06-.94 2.06-2.06.94zm-11 1L8.5 8.5l.94-2.06 2.06-.94-2.06-.94L8.5 2.5l-.94 2.06-2.06.94zm10 10l.94 2.06.94-2.06 2.06-.94-2.06-.94-.94-2.06-.94 2.06-2.06.94z\"/><path d=\"M17.41 7.96l-1.37-1.37c-.4-.4-.92-.59-1.43-.59-.52 0-1.04.2-1.43.59L10.3 9.45l-7.72 7.72c-.78.78-.78 2.05 0 2.83L4 21.41c.39.39.9.59 1.41.59.51 0 1.02-.2 1.41-.59l7.78-7.78 2.81-2.81c.8-.78.8-2.07 0-2.86zM5.41 20L4 18.59l7.72-7.72 1.47 1.35L5.41 20z\"/>\n",
              "  </svg>\n",
              "      </button>\n",
              "      \n",
              "  <style>\n",
              "    .colab-df-container {\n",
              "      display:flex;\n",
              "      flex-wrap:wrap;\n",
              "      gap: 12px;\n",
              "    }\n",
              "\n",
              "    .colab-df-convert {\n",
              "      background-color: #E8F0FE;\n",
              "      border: none;\n",
              "      border-radius: 50%;\n",
              "      cursor: pointer;\n",
              "      display: none;\n",
              "      fill: #1967D2;\n",
              "      height: 32px;\n",
              "      padding: 0 0 0 0;\n",
              "      width: 32px;\n",
              "    }\n",
              "\n",
              "    .colab-df-convert:hover {\n",
              "      background-color: #E2EBFA;\n",
              "      box-shadow: 0px 1px 2px rgba(60, 64, 67, 0.3), 0px 1px 3px 1px rgba(60, 64, 67, 0.15);\n",
              "      fill: #174EA6;\n",
              "    }\n",
              "\n",
              "    [theme=dark] .colab-df-convert {\n",
              "      background-color: #3B4455;\n",
              "      fill: #D2E3FC;\n",
              "    }\n",
              "\n",
              "    [theme=dark] .colab-df-convert:hover {\n",
              "      background-color: #434B5C;\n",
              "      box-shadow: 0px 1px 3px 1px rgba(0, 0, 0, 0.15);\n",
              "      filter: drop-shadow(0px 1px 2px rgba(0, 0, 0, 0.3));\n",
              "      fill: #FFFFFF;\n",
              "    }\n",
              "  </style>\n",
              "\n",
              "      <script>\n",
              "        const buttonEl =\n",
              "          document.querySelector('#df-8c28f4df-2bed-4da3-9779-ec184d91583e button.colab-df-convert');\n",
              "        buttonEl.style.display =\n",
              "          google.colab.kernel.accessAllowed ? 'block' : 'none';\n",
              "\n",
              "        async function convertToInteractive(key) {\n",
              "          const element = document.querySelector('#df-8c28f4df-2bed-4da3-9779-ec184d91583e');\n",
              "          const dataTable =\n",
              "            await google.colab.kernel.invokeFunction('convertToInteractive',\n",
              "                                                     [key], {});\n",
              "          if (!dataTable) return;\n",
              "\n",
              "          const docLinkHtml = 'Like what you see? Visit the ' +\n",
              "            '<a target=\"_blank\" href=https://colab.research.google.com/notebooks/data_table.ipynb>data table notebook</a>'\n",
              "            + ' to learn more about interactive tables.';\n",
              "          element.innerHTML = '';\n",
              "          dataTable['output_type'] = 'display_data';\n",
              "          await google.colab.output.renderOutput(dataTable, element);\n",
              "          const docLink = document.createElement('div');\n",
              "          docLink.innerHTML = docLinkHtml;\n",
              "          element.appendChild(docLink);\n",
              "        }\n",
              "      </script>\n",
              "    </div>\n",
              "  </div>\n",
              "  "
            ]
          },
          "metadata": {},
          "execution_count": 68
        }
      ]
    },
    {
      "cell_type": "code",
      "source": [
        "df.shape"
      ],
      "metadata": {
        "colab": {
          "base_uri": "https://localhost:8080/"
        },
        "id": "moDnDxlchDAJ",
        "outputId": "3bb88dd5-b1b1-4e4d-e35e-21f4e3e19574"
      },
      "execution_count": null,
      "outputs": [
        {
          "output_type": "execute_result",
          "data": {
            "text/plain": [
              "(711, 454)"
            ]
          },
          "metadata": {},
          "execution_count": 17
        }
      ]
    },
    {
      "cell_type": "code",
      "source": [
        "df.info()"
      ],
      "metadata": {
        "colab": {
          "base_uri": "https://localhost:8080/"
        },
        "id": "brTTZEkphEhL",
        "outputId": "fa92ebc1-b8d2-43dc-aa53-4276775985c3"
      },
      "execution_count": null,
      "outputs": [
        {
          "output_type": "stream",
          "name": "stdout",
          "text": [
            "<class 'pandas.core.frame.DataFrame'>\n",
            "RangeIndex: 711 entries, 0 to 710\n",
            "Columns: 454 entries, _STATE to HAVHPAD\n",
            "dtypes: float64(444), object(10)\n",
            "memory usage: 2.5+ MB\n"
          ]
        }
      ]
    },
    {
      "cell_type": "code",
      "source": [
        "df.columns"
      ],
      "metadata": {
        "colab": {
          "base_uri": "https://localhost:8080/"
        },
        "id": "FTGd8ls9hLvd",
        "outputId": "b2619699-edf3-4bde-d1ca-c05d3ced4676"
      },
      "execution_count": null,
      "outputs": [
        {
          "output_type": "execute_result",
          "data": {
            "text/plain": [
              "Index(['_STATE', '_GEOSTR', '_DENSTR2', 'PRECALL', 'REPNUM', 'REPDEPTH',\n",
              "       'FMONTH', 'IDATE', 'IMONTH', 'IDAY',\n",
              "       ...\n",
              "       'DRNKANY5', 'DROCDY3_', '_RFBING5', '_DRNKDY4', '_DRNKMO4', '_RFDRHV4',\n",
              "       '_RFDRMN4', '_RFDRWM4', '_AIDTST3', 'HAVHPAD'],\n",
              "      dtype='object', length=454)"
            ]
          },
          "metadata": {},
          "execution_count": 21
        }
      ]
    },
    {
      "cell_type": "code",
      "source": [
        "df.isnull().sum()"
      ],
      "metadata": {
        "colab": {
          "base_uri": "https://localhost:8080/"
        },
        "id": "ydUIY8lEhda3",
        "outputId": "642fef87-dec2-419e-9787-beff0590772d"
      },
      "execution_count": null,
      "outputs": [
        {
          "output_type": "execute_result",
          "data": {
            "text/plain": [
              "_STATE        0\n",
              "_GEOSTR       0\n",
              "_DENSTR2      0\n",
              "PRECALL       0\n",
              "REPNUM        0\n",
              "           ... \n",
              "_RFDRHV4      1\n",
              "_RFDRMN4    461\n",
              "_RFDRWM4    251\n",
              "_AIDTST3     49\n",
              "HAVHPAD     711\n",
              "Length: 454, dtype: int64"
            ]
          },
          "metadata": {},
          "execution_count": 23
        }
      ]
    },
    {
      "cell_type": "code",
      "source": [
        "df['HIVRISK3'].info()"
      ],
      "metadata": {
        "colab": {
          "base_uri": "https://localhost:8080/"
        },
        "id": "8DMmYqIVhjfH",
        "outputId": "709be5af-0f0f-4b74-e331-443cf52c9a6a"
      },
      "execution_count": null,
      "outputs": [
        {
          "output_type": "stream",
          "name": "stdout",
          "text": [
            "<class 'pandas.core.series.Series'>\n",
            "RangeIndex: 711 entries, 0 to 710\n",
            "Series name: HIVRISK3\n",
            "Non-Null Count  Dtype  \n",
            "--------------  -----  \n",
            "661 non-null    float64\n",
            "dtypes: float64(1)\n",
            "memory usage: 5.7 KB\n"
          ]
        }
      ]
    },
    {
      "cell_type": "code",
      "source": [
        "df = df[df['HIVRISK3'].notna()]"
      ],
      "metadata": {
        "id": "8fqIe1nqh4WV"
      },
      "execution_count": null,
      "outputs": []
    },
    {
      "cell_type": "code",
      "source": [
        "#Drop columns with 1 value\n",
        "df.nunique()==1\n",
        "uni = pd.DataFrame(df.nunique())\n",
        "list1 = []\n",
        "j = 0\n",
        "for i in uni[0]:\n",
        "  if(i==1):\n",
        "    list1.append(j)\n",
        "  j=j+1\n",
        "print(list1)\n",
        "df.drop(df.columns[list1], axis = 1, inplace=True)"
      ],
      "metadata": {
        "colab": {
          "base_uri": "https://localhost:8080/"
        },
        "id": "JQfxkXp9iC_Q",
        "outputId": "3112b1db-3a76-477b-9089-e0674bfbd846"
      },
      "execution_count": null,
      "outputs": [
        {
          "output_type": "stream",
          "name": "stdout",
          "text": [
            "[0, 10, 18, 19, 20, 303, 306, 312, 316, 317, 319, 321, 322, 325, 407, 408]\n"
          ]
        },
        {
          "output_type": "stream",
          "name": "stderr",
          "text": [
            "<ipython-input-26-2dca2c0fa88c>:10: SettingWithCopyWarning: \n",
            "A value is trying to be set on a copy of a slice from a DataFrame\n",
            "\n",
            "See the caveats in the documentation: https://pandas.pydata.org/pandas-docs/stable/user_guide/indexing.html#returning-a-view-versus-a-copy\n",
            "  df.drop(df.columns[list1], axis = 1, inplace=True)\n"
          ]
        }
      ]
    },
    {
      "cell_type": "code",
      "source": [
        "#Drop columns with 50% null values\n",
        "nullRatio = pd.DataFrame(df.isnull().sum()/len(df))\n",
        "list1=[]\n",
        "j=0\n",
        "for i in nullRatio[0]:\n",
        "  if(i>=0.5):\n",
        "    list1.append(j)\n",
        "  j=j+1\n",
        "print(list1)\n",
        "df.drop(df.columns[list1], axis = 1, inplace=True)"
      ],
      "metadata": {
        "colab": {
          "base_uri": "https://localhost:8080/"
        },
        "id": "jaaYsboyioR2",
        "outputId": "19827b27-1170-4e1b-9d21-7459d258927b"
      },
      "execution_count": null,
      "outputs": [
        {
          "output_type": "stream",
          "name": "stdout",
          "text": [
            "[28, 36, 47, 48, 53, 64, 66, 71, 83, 84, 88, 89, 90, 91, 94, 95, 98, 99, 100, 102, 104, 105, 106, 107, 108, 109, 110, 111, 112, 113, 114, 115, 116, 117, 118, 119, 120, 121, 122, 123, 124, 125, 126, 127, 128, 129, 130, 131, 132, 133, 134, 135, 136, 137, 138, 139, 140, 141, 142, 143, 144, 145, 146, 147, 148, 149, 150, 151, 152, 153, 154, 155, 156, 157, 158, 159, 160, 161, 162, 163, 164, 165, 166, 167, 168, 169, 170, 171, 172, 173, 174, 175, 176, 177, 178, 179, 180, 181, 182, 183, 184, 185, 186, 187, 188, 189, 190, 191, 192, 193, 194, 195, 196, 197, 198, 199, 200, 201, 202, 203, 204, 205, 206, 207, 208, 209, 210, 211, 212, 213, 214, 215, 216, 217, 218, 219, 220, 221, 222, 223, 224, 225, 226, 227, 228, 229, 230, 231, 232, 233, 234, 235, 236, 237, 238, 239, 240, 241, 242, 243, 244, 245, 246, 247, 248, 249, 250, 251, 252, 253, 254, 255, 256, 257, 258, 259, 260, 261, 262, 263, 264, 265, 266, 267, 268, 269, 270, 271, 272, 273, 274, 275, 276, 277, 278, 279, 280, 281, 282, 283, 284, 285, 286, 287, 288, 289, 290, 291, 292, 293, 294, 295, 296, 297, 298, 299, 300, 301, 302, 303, 304, 305, 306, 308, 309, 310, 324, 325, 326, 327, 328, 329, 330, 331, 332, 333, 334, 403, 405, 426, 427, 434, 437]\n"
          ]
        },
        {
          "output_type": "stream",
          "name": "stderr",
          "text": [
            "<ipython-input-28-b34c5a48555c>:10: SettingWithCopyWarning: \n",
            "A value is trying to be set on a copy of a slice from a DataFrame\n",
            "\n",
            "See the caveats in the documentation: https://pandas.pydata.org/pandas-docs/stable/user_guide/indexing.html#returning-a-view-versus-a-copy\n",
            "  df.drop(df.columns[list1], axis = 1, inplace=True)\n"
          ]
        }
      ]
    },
    {
      "cell_type": "code",
      "source": [
        "list2=[]\n",
        "for i in range(len(df.columns)):\n",
        "  try:\n",
        "    df.iloc[:,i] = pd.to_numeric(df.iloc[:,i])\n",
        "  except ValueError:\n",
        "    list2.append(i)\n",
        "print(list2)"
      ],
      "metadata": {
        "colab": {
          "base_uri": "https://localhost:8080/"
        },
        "id": "88OizH6FjItg",
        "outputId": "23d9a1b3-bea0-493a-a2f9-55b2646d113e"
      },
      "execution_count": null,
      "outputs": [
        {
          "output_type": "stream",
          "name": "stdout",
          "text": [
            "[6, 7, 8, 9, 48, 122]\n"
          ]
        }
      ]
    },
    {
      "cell_type": "code",
      "source": [
        "df.iloc[:,[6, 7, 8, 9, 48, 122]]"
      ],
      "metadata": {
        "colab": {
          "base_uri": "https://localhost:8080/",
          "height": 423
        },
        "id": "DU_mf7WsjtHb",
        "outputId": "e03b87a3-9dea-425b-d727-d8434801214f"
      },
      "execution_count": null,
      "outputs": [
        {
          "output_type": "execute_result",
          "data": {
            "text/plain": [
              "           IDATE IMONTH   IDAY    INTVID  MRACE MRACEORG\n",
              "0    b'01202011'  b'01'  b'20'  b'00118'  b'18'     b'1'\n",
              "2    b'01062011'  b'01'  b'06'  b'00140'  b'18'     b'1'\n",
              "4    b'02012011'  b'02'  b'01'  b'00118'  b'28'     b'2'\n",
              "5    b'01062011'  b'01'  b'06'  b'00143'  b'28'     b'2'\n",
              "7    b'01062011'  b'01'  b'06'  b'00102'  b'18'     b'1'\n",
              "..           ...    ...    ...       ...    ...      ...\n",
              "705  b'01252011'  b'01'  b'25'  b'00109'  b'18'     b'1'\n",
              "706  b'02092011'  b'02'  b'09'  b'00101'  b'28'     b'2'\n",
              "707  b'02022011'  b'02'  b'02'  b'00136'  b'18'     b'1'\n",
              "708  b'02102011'  b'02'  b'10'  b'00194'  b'18'     b'1'\n",
              "709  b'02032011'  b'02'  b'03'  b'00102'  b'18'     b'1'\n",
              "\n",
              "[661 rows x 6 columns]"
            ],
            "text/html": [
              "\n",
              "  <div id=\"df-da58ad67-6f3a-4a87-85d5-038b15a45c4c\">\n",
              "    <div class=\"colab-df-container\">\n",
              "      <div>\n",
              "<style scoped>\n",
              "    .dataframe tbody tr th:only-of-type {\n",
              "        vertical-align: middle;\n",
              "    }\n",
              "\n",
              "    .dataframe tbody tr th {\n",
              "        vertical-align: top;\n",
              "    }\n",
              "\n",
              "    .dataframe thead th {\n",
              "        text-align: right;\n",
              "    }\n",
              "</style>\n",
              "<table border=\"1\" class=\"dataframe\">\n",
              "  <thead>\n",
              "    <tr style=\"text-align: right;\">\n",
              "      <th></th>\n",
              "      <th>IDATE</th>\n",
              "      <th>IMONTH</th>\n",
              "      <th>IDAY</th>\n",
              "      <th>INTVID</th>\n",
              "      <th>MRACE</th>\n",
              "      <th>MRACEORG</th>\n",
              "    </tr>\n",
              "  </thead>\n",
              "  <tbody>\n",
              "    <tr>\n",
              "      <th>0</th>\n",
              "      <td>b'01202011'</td>\n",
              "      <td>b'01'</td>\n",
              "      <td>b'20'</td>\n",
              "      <td>b'00118'</td>\n",
              "      <td>b'18'</td>\n",
              "      <td>b'1'</td>\n",
              "    </tr>\n",
              "    <tr>\n",
              "      <th>2</th>\n",
              "      <td>b'01062011'</td>\n",
              "      <td>b'01'</td>\n",
              "      <td>b'06'</td>\n",
              "      <td>b'00140'</td>\n",
              "      <td>b'18'</td>\n",
              "      <td>b'1'</td>\n",
              "    </tr>\n",
              "    <tr>\n",
              "      <th>4</th>\n",
              "      <td>b'02012011'</td>\n",
              "      <td>b'02'</td>\n",
              "      <td>b'01'</td>\n",
              "      <td>b'00118'</td>\n",
              "      <td>b'28'</td>\n",
              "      <td>b'2'</td>\n",
              "    </tr>\n",
              "    <tr>\n",
              "      <th>5</th>\n",
              "      <td>b'01062011'</td>\n",
              "      <td>b'01'</td>\n",
              "      <td>b'06'</td>\n",
              "      <td>b'00143'</td>\n",
              "      <td>b'28'</td>\n",
              "      <td>b'2'</td>\n",
              "    </tr>\n",
              "    <tr>\n",
              "      <th>7</th>\n",
              "      <td>b'01062011'</td>\n",
              "      <td>b'01'</td>\n",
              "      <td>b'06'</td>\n",
              "      <td>b'00102'</td>\n",
              "      <td>b'18'</td>\n",
              "      <td>b'1'</td>\n",
              "    </tr>\n",
              "    <tr>\n",
              "      <th>...</th>\n",
              "      <td>...</td>\n",
              "      <td>...</td>\n",
              "      <td>...</td>\n",
              "      <td>...</td>\n",
              "      <td>...</td>\n",
              "      <td>...</td>\n",
              "    </tr>\n",
              "    <tr>\n",
              "      <th>705</th>\n",
              "      <td>b'01252011'</td>\n",
              "      <td>b'01'</td>\n",
              "      <td>b'25'</td>\n",
              "      <td>b'00109'</td>\n",
              "      <td>b'18'</td>\n",
              "      <td>b'1'</td>\n",
              "    </tr>\n",
              "    <tr>\n",
              "      <th>706</th>\n",
              "      <td>b'02092011'</td>\n",
              "      <td>b'02'</td>\n",
              "      <td>b'09'</td>\n",
              "      <td>b'00101'</td>\n",
              "      <td>b'28'</td>\n",
              "      <td>b'2'</td>\n",
              "    </tr>\n",
              "    <tr>\n",
              "      <th>707</th>\n",
              "      <td>b'02022011'</td>\n",
              "      <td>b'02'</td>\n",
              "      <td>b'02'</td>\n",
              "      <td>b'00136'</td>\n",
              "      <td>b'18'</td>\n",
              "      <td>b'1'</td>\n",
              "    </tr>\n",
              "    <tr>\n",
              "      <th>708</th>\n",
              "      <td>b'02102011'</td>\n",
              "      <td>b'02'</td>\n",
              "      <td>b'10'</td>\n",
              "      <td>b'00194'</td>\n",
              "      <td>b'18'</td>\n",
              "      <td>b'1'</td>\n",
              "    </tr>\n",
              "    <tr>\n",
              "      <th>709</th>\n",
              "      <td>b'02032011'</td>\n",
              "      <td>b'02'</td>\n",
              "      <td>b'03'</td>\n",
              "      <td>b'00102'</td>\n",
              "      <td>b'18'</td>\n",
              "      <td>b'1'</td>\n",
              "    </tr>\n",
              "  </tbody>\n",
              "</table>\n",
              "<p>661 rows × 6 columns</p>\n",
              "</div>\n",
              "      <button class=\"colab-df-convert\" onclick=\"convertToInteractive('df-da58ad67-6f3a-4a87-85d5-038b15a45c4c')\"\n",
              "              title=\"Convert this dataframe to an interactive table.\"\n",
              "              style=\"display:none;\">\n",
              "        \n",
              "  <svg xmlns=\"http://www.w3.org/2000/svg\" height=\"24px\"viewBox=\"0 0 24 24\"\n",
              "       width=\"24px\">\n",
              "    <path d=\"M0 0h24v24H0V0z\" fill=\"none\"/>\n",
              "    <path d=\"M18.56 5.44l.94 2.06.94-2.06 2.06-.94-2.06-.94-.94-2.06-.94 2.06-2.06.94zm-11 1L8.5 8.5l.94-2.06 2.06-.94-2.06-.94L8.5 2.5l-.94 2.06-2.06.94zm10 10l.94 2.06.94-2.06 2.06-.94-2.06-.94-.94-2.06-.94 2.06-2.06.94z\"/><path d=\"M17.41 7.96l-1.37-1.37c-.4-.4-.92-.59-1.43-.59-.52 0-1.04.2-1.43.59L10.3 9.45l-7.72 7.72c-.78.78-.78 2.05 0 2.83L4 21.41c.39.39.9.59 1.41.59.51 0 1.02-.2 1.41-.59l7.78-7.78 2.81-2.81c.8-.78.8-2.07 0-2.86zM5.41 20L4 18.59l7.72-7.72 1.47 1.35L5.41 20z\"/>\n",
              "  </svg>\n",
              "      </button>\n",
              "      \n",
              "  <style>\n",
              "    .colab-df-container {\n",
              "      display:flex;\n",
              "      flex-wrap:wrap;\n",
              "      gap: 12px;\n",
              "    }\n",
              "\n",
              "    .colab-df-convert {\n",
              "      background-color: #E8F0FE;\n",
              "      border: none;\n",
              "      border-radius: 50%;\n",
              "      cursor: pointer;\n",
              "      display: none;\n",
              "      fill: #1967D2;\n",
              "      height: 32px;\n",
              "      padding: 0 0 0 0;\n",
              "      width: 32px;\n",
              "    }\n",
              "\n",
              "    .colab-df-convert:hover {\n",
              "      background-color: #E2EBFA;\n",
              "      box-shadow: 0px 1px 2px rgba(60, 64, 67, 0.3), 0px 1px 3px 1px rgba(60, 64, 67, 0.15);\n",
              "      fill: #174EA6;\n",
              "    }\n",
              "\n",
              "    [theme=dark] .colab-df-convert {\n",
              "      background-color: #3B4455;\n",
              "      fill: #D2E3FC;\n",
              "    }\n",
              "\n",
              "    [theme=dark] .colab-df-convert:hover {\n",
              "      background-color: #434B5C;\n",
              "      box-shadow: 0px 1px 3px 1px rgba(0, 0, 0, 0.15);\n",
              "      filter: drop-shadow(0px 1px 2px rgba(0, 0, 0, 0.3));\n",
              "      fill: #FFFFFF;\n",
              "    }\n",
              "  </style>\n",
              "\n",
              "      <script>\n",
              "        const buttonEl =\n",
              "          document.querySelector('#df-da58ad67-6f3a-4a87-85d5-038b15a45c4c button.colab-df-convert');\n",
              "        buttonEl.style.display =\n",
              "          google.colab.kernel.accessAllowed ? 'block' : 'none';\n",
              "\n",
              "        async function convertToInteractive(key) {\n",
              "          const element = document.querySelector('#df-da58ad67-6f3a-4a87-85d5-038b15a45c4c');\n",
              "          const dataTable =\n",
              "            await google.colab.kernel.invokeFunction('convertToInteractive',\n",
              "                                                     [key], {});\n",
              "          if (!dataTable) return;\n",
              "\n",
              "          const docLinkHtml = 'Like what you see? Visit the ' +\n",
              "            '<a target=\"_blank\" href=https://colab.research.google.com/notebooks/data_table.ipynb>data table notebook</a>'\n",
              "            + ' to learn more about interactive tables.';\n",
              "          element.innerHTML = '';\n",
              "          dataTable['output_type'] = 'display_data';\n",
              "          await google.colab.output.renderOutput(dataTable, element);\n",
              "          const docLink = document.createElement('div');\n",
              "          docLink.innerHTML = docLinkHtml;\n",
              "          element.appendChild(docLink);\n",
              "        }\n",
              "      </script>\n",
              "    </div>\n",
              "  </div>\n",
              "  "
            ]
          },
          "metadata": {},
          "execution_count": 32
        }
      ]
    },
    {
      "cell_type": "code",
      "source": [
        "df.drop(df.columns[list2], axis=1, inplace=True)"
      ],
      "metadata": {
        "id": "AeMPgpEUj-VA"
      },
      "execution_count": null,
      "outputs": []
    },
    {
      "cell_type": "code",
      "source": [
        "for i in range(len(df.columns)):\n",
        "  df.iloc[:,i].fillna((df.iloc[:,i]).mean(), inplace=True)"
      ],
      "metadata": {
        "id": "U1Gl1rdWkQmh"
      },
      "execution_count": null,
      "outputs": []
    },
    {
      "cell_type": "code",
      "source": [
        "X = df.drop('HIVRISK3',axis=1).values\n",
        "y = df['HIVRISK3'].values"
      ],
      "metadata": {
        "id": "lTLhnZtCkrEK"
      },
      "execution_count": null,
      "outputs": []
    },
    {
      "cell_type": "code",
      "source": [
        "from sklearn.model_selection import train_test_split\n",
        "X_train, X_test, y_train, y_test = train_test_split(X, y, random_state=0)"
      ],
      "metadata": {
        "id": "ogYtOJ_FlBUs"
      },
      "execution_count": null,
      "outputs": []
    },
    {
      "cell_type": "code",
      "source": [
        "from sklearn.preprocessing import LabelEncoder\n",
        "lb = LabelEncoder()\n",
        "y_train = lb.fit_transform(y_train)\n",
        "y_test = lb.transform(y_test)"
      ],
      "metadata": {
        "id": "kilf4yegl1yQ"
      },
      "execution_count": null,
      "outputs": []
    },
    {
      "cell_type": "code",
      "source": [
        "from sklearn.compose import ColumnTransformer\n",
        "from sklearn.preprocessing import OneHotEncoder\n",
        "ct = ColumnTransformer([('encoder', OneHotEncoder(), [0])], remainder='passthrough')\n",
        "X_train = ct.fit_transform(X_train)\n",
        "X_test = ct.transform(X_test)"
      ],
      "metadata": {
        "id": "vA9G4YIWm5i0"
      },
      "execution_count": null,
      "outputs": []
    },
    {
      "cell_type": "markdown",
      "source": [
        "**Decision Tree Classifier**"
      ],
      "metadata": {
        "id": "PmzdreR4mgfX"
      }
    },
    {
      "cell_type": "code",
      "source": [
        "from sklearn.tree import DecisionTreeClassifier\n",
        "classifier=DecisionTreeClassifier()\n",
        "classifier.fit(X_train,y_train)\n",
        "y_pred = classifier.predict(X_test)"
      ],
      "metadata": {
        "id": "JRvum4YOmTrs"
      },
      "execution_count": null,
      "outputs": []
    },
    {
      "cell_type": "code",
      "source": [
        "from sklearn.metrics import classification_report\n",
        "print(classification_report(y_pred,y_test))"
      ],
      "metadata": {
        "colab": {
          "base_uri": "https://localhost:8080/"
        },
        "id": "LAg49-X7moAK",
        "outputId": "7ab09ac1-e274-45f5-ef12-34a0948a2345"
      },
      "execution_count": null,
      "outputs": [
        {
          "output_type": "stream",
          "name": "stdout",
          "text": [
            "              precision    recall  f1-score   support\n",
            "\n",
            "           0       0.00      0.00      0.00         1\n",
            "           1       0.99      0.97      0.98       163\n",
            "           2       0.00      0.00      0.00         1\n",
            "           3       1.00      1.00      1.00         1\n",
            "\n",
            "    accuracy                           0.96       166\n",
            "   macro avg       0.50      0.49      0.49       166\n",
            "weighted avg       0.98      0.96      0.97       166\n",
            "\n"
          ]
        },
        {
          "output_type": "stream",
          "name": "stderr",
          "text": [
            "/usr/local/lib/python3.9/dist-packages/sklearn/metrics/_classification.py:1344: UndefinedMetricWarning: Precision and F-score are ill-defined and being set to 0.0 in labels with no predicted samples. Use `zero_division` parameter to control this behavior.\n",
            "  _warn_prf(average, modifier, msg_start, len(result))\n",
            "/usr/local/lib/python3.9/dist-packages/sklearn/metrics/_classification.py:1344: UndefinedMetricWarning: Precision and F-score are ill-defined and being set to 0.0 in labels with no predicted samples. Use `zero_division` parameter to control this behavior.\n",
            "  _warn_prf(average, modifier, msg_start, len(result))\n",
            "/usr/local/lib/python3.9/dist-packages/sklearn/metrics/_classification.py:1344: UndefinedMetricWarning: Precision and F-score are ill-defined and being set to 0.0 in labels with no predicted samples. Use `zero_division` parameter to control this behavior.\n",
            "  _warn_prf(average, modifier, msg_start, len(result))\n"
          ]
        }
      ]
    },
    {
      "cell_type": "code",
      "source": [
        "#Test accuracy\n",
        "from sklearn.metrics import accuracy_score\n",
        "print(\"Accuracy:\",accuracy_score(y_pred,y_test))"
      ],
      "metadata": {
        "colab": {
          "base_uri": "https://localhost:8080/"
        },
        "id": "zUztunu7mpZu",
        "outputId": "09e53caa-1ec6-464d-c5d8-9802b281d3b4"
      },
      "execution_count": null,
      "outputs": [
        {
          "output_type": "stream",
          "name": "stdout",
          "text": [
            "Accuracy: 0.9578313253012049\n"
          ]
        }
      ]
    },
    {
      "cell_type": "code",
      "source": [
        "#Train accuracy\n",
        "y_pred2 = classifier.predict(X_train)\n",
        "print(\"Accuracy:\",accuracy_score(y_pred2,y_train))"
      ],
      "metadata": {
        "colab": {
          "base_uri": "https://localhost:8080/"
        },
        "id": "6Ei7ied9muKd",
        "outputId": "dd550dc1-cbc5-44af-b3ef-04c6f214688f"
      },
      "execution_count": null,
      "outputs": [
        {
          "output_type": "stream",
          "name": "stdout",
          "text": [
            "Accuracy: 1.0\n"
          ]
        }
      ]
    },
    {
      "cell_type": "markdown",
      "source": [
        "**Random Forest**"
      ],
      "metadata": {
        "id": "p5W0GeOZoY6E"
      }
    },
    {
      "cell_type": "code",
      "source": [
        "from sklearn.ensemble import RandomForestClassifier\n",
        "classifierR=RandomForestClassifier(n_estimators=100, max_depth=2, random_state=0)\n",
        "classifierR.fit(X_train,y_train)\n",
        "y_pred = classifierR.predict(X_test)"
      ],
      "metadata": {
        "id": "aQhJoIuGoYD4"
      },
      "execution_count": null,
      "outputs": []
    },
    {
      "cell_type": "code",
      "source": [
        "from sklearn.metrics import classification_report\n",
        "print(classification_report(y_pred,y_test))"
      ],
      "metadata": {
        "colab": {
          "base_uri": "https://localhost:8080/"
        },
        "id": "nsDHj1D7m2_N",
        "outputId": "583e9f41-0376-49e5-9e76-f32cfb0de468"
      },
      "execution_count": null,
      "outputs": [
        {
          "output_type": "stream",
          "name": "stdout",
          "text": [
            "              precision    recall  f1-score   support\n",
            "\n",
            "           0       0.00      0.00      0.00         0\n",
            "           1       1.00      0.96      0.98       166\n",
            "           3       0.00      0.00      0.00         0\n",
            "\n",
            "    accuracy                           0.96       166\n",
            "   macro avg       0.33      0.32      0.33       166\n",
            "weighted avg       1.00      0.96      0.98       166\n",
            "\n"
          ]
        },
        {
          "output_type": "stream",
          "name": "stderr",
          "text": [
            "/usr/local/lib/python3.9/dist-packages/sklearn/metrics/_classification.py:1344: UndefinedMetricWarning: Recall and F-score are ill-defined and being set to 0.0 in labels with no true samples. Use `zero_division` parameter to control this behavior.\n",
            "  _warn_prf(average, modifier, msg_start, len(result))\n",
            "/usr/local/lib/python3.9/dist-packages/sklearn/metrics/_classification.py:1344: UndefinedMetricWarning: Recall and F-score are ill-defined and being set to 0.0 in labels with no true samples. Use `zero_division` parameter to control this behavior.\n",
            "  _warn_prf(average, modifier, msg_start, len(result))\n",
            "/usr/local/lib/python3.9/dist-packages/sklearn/metrics/_classification.py:1344: UndefinedMetricWarning: Recall and F-score are ill-defined and being set to 0.0 in labels with no true samples. Use `zero_division` parameter to control this behavior.\n",
            "  _warn_prf(average, modifier, msg_start, len(result))\n"
          ]
        }
      ]
    },
    {
      "cell_type": "code",
      "source": [
        "from sklearn.metrics import accuracy_score\n",
        "print(\"Accuracy:\",accuracy_score(y_pred,y_test))"
      ],
      "metadata": {
        "colab": {
          "base_uri": "https://localhost:8080/"
        },
        "id": "6BrjclwOoijc",
        "outputId": "515bc3bb-5e7f-49e3-a504-7022e77f230c"
      },
      "execution_count": null,
      "outputs": [
        {
          "output_type": "stream",
          "name": "stdout",
          "text": [
            "Accuracy: 0.963855421686747\n"
          ]
        }
      ]
    },
    {
      "cell_type": "markdown",
      "source": [
        "**Random Forest Feature Importance**"
      ],
      "metadata": {
        "id": "TVAPEApTpIUI"
      }
    },
    {
      "cell_type": "code",
      "source": [
        "from sklearn.ensemble import RandomForestClassifier\n",
        "classifierR=RandomForestClassifier(n_estimators=100)\n",
        "classifierR.fit(X_train,y_train)\n",
        "y_pred = classifierR.predict(X_test)"
      ],
      "metadata": {
        "id": "JJJ7uKYlol8r"
      },
      "execution_count": null,
      "outputs": []
    },
    {
      "cell_type": "code",
      "source": [
        "a=classifierR.feature_importances_"
      ],
      "metadata": {
        "id": "ePrhHPkWqvCQ"
      },
      "execution_count": null,
      "outputs": []
    },
    {
      "cell_type": "code",
      "source": [
        "df2=df.drop(['HIVRISK3'], axis=1)"
      ],
      "metadata": {
        "id": "HSp-A7f5pNFY"
      },
      "execution_count": null,
      "outputs": []
    },
    {
      "cell_type": "code",
      "source": [
        "a2 = df2.columns"
      ],
      "metadata": {
        "id": "xQwoBpSqpQHm"
      },
      "execution_count": null,
      "outputs": []
    },
    {
      "cell_type": "code",
      "source": [
        "impFeatures = pd.Series(classifierR.feature_importances_, index=a2).sort_values(ascending=False)"
      ],
      "metadata": {
        "id": "YlP9xINKsCvW"
      },
      "execution_count": null,
      "outputs": []
    },
    {
      "cell_type": "markdown",
      "source": [
        "**Random Forest Variable Importance**"
      ],
      "metadata": {
        "id": "yBBR5jnls1s_"
      }
    },
    {
      "cell_type": "code",
      "source": [
        "from sklearn.ensemble import RandomForestClassifier\n",
        "classifier2=RandomForestClassifier(bootstrap=True,class_weight=None,criterion='gini',max_depth=None,max_features='auto',min_impurity_decrease=0.0,\n",
        "                                   min_samples_leaf=1,min_samples_split=2,min_weight_fraction_leaf=0.0,n_estimators=100,n_jobs=1,\n",
        "                                   oob_score=False, random_state=None, verbose=0, warm_start=False)\n",
        "classifier2.fit(X_train,y_train)\n",
        "y_pred = classifier2.predict(X_test)"
      ],
      "metadata": {
        "colab": {
          "base_uri": "https://localhost:8080/"
        },
        "id": "4ax0JRNTrlhU",
        "outputId": "bc35298c-5675-420b-dc0b-666d8c55f5ca"
      },
      "execution_count": null,
      "outputs": [
        {
          "output_type": "stream",
          "name": "stderr",
          "text": [
            "/usr/local/lib/python3.9/dist-packages/sklearn/ensemble/_forest.py:424: FutureWarning: `max_features='auto'` has been deprecated in 1.1 and will be removed in 1.3. To keep the past behaviour, explicitly set `max_features='sqrt'` or remove this parameter as it is also the default value for RandomForestClassifiers and ExtraTreesClassifiers.\n",
            "  warn(\n"
          ]
        }
      ]
    },
    {
      "cell_type": "code",
      "source": [
        "from sklearn.metrics import classification_report\n",
        "print(classification_report(y_pred,y_test))\n",
        "print(\"Accuracy:\",accuracy_score(y_pred,y_test))\n"
      ],
      "metadata": {
        "colab": {
          "base_uri": "https://localhost:8080/"
        },
        "id": "Vaz42BNDscHQ",
        "outputId": "20436b39-492d-4b0b-8616-63cb982810de"
      },
      "execution_count": null,
      "outputs": [
        {
          "output_type": "stream",
          "name": "stdout",
          "text": [
            "              precision    recall  f1-score   support\n",
            "\n",
            "           0       0.00      0.00      0.00         0\n",
            "           1       1.00      0.96      0.98       166\n",
            "           3       0.00      0.00      0.00         0\n",
            "\n",
            "    accuracy                           0.96       166\n",
            "   macro avg       0.33      0.32      0.33       166\n",
            "weighted avg       1.00      0.96      0.98       166\n",
            "\n",
            "Accuracy: 0.963855421686747\n"
          ]
        },
        {
          "output_type": "stream",
          "name": "stderr",
          "text": [
            "/usr/local/lib/python3.9/dist-packages/sklearn/metrics/_classification.py:1344: UndefinedMetricWarning: Recall and F-score are ill-defined and being set to 0.0 in labels with no true samples. Use `zero_division` parameter to control this behavior.\n",
            "  _warn_prf(average, modifier, msg_start, len(result))\n",
            "/usr/local/lib/python3.9/dist-packages/sklearn/metrics/_classification.py:1344: UndefinedMetricWarning: Recall and F-score are ill-defined and being set to 0.0 in labels with no true samples. Use `zero_division` parameter to control this behavior.\n",
            "  _warn_prf(average, modifier, msg_start, len(result))\n",
            "/usr/local/lib/python3.9/dist-packages/sklearn/metrics/_classification.py:1344: UndefinedMetricWarning: Recall and F-score are ill-defined and being set to 0.0 in labels with no true samples. Use `zero_division` parameter to control this behavior.\n",
            "  _warn_prf(average, modifier, msg_start, len(result))\n"
          ]
        }
      ]
    },
    {
      "cell_type": "code",
      "source": [
        "y_pred2 = classifier2.predict(X_train)\n",
        "print(classification_report(y_pred2,y_train))\n",
        "print(\"Accuracy:\",accuracy_score(y_pred2,y_train))"
      ],
      "metadata": {
        "colab": {
          "base_uri": "https://localhost:8080/"
        },
        "id": "L7r969yQseAX",
        "outputId": "c21a0e81-3e2e-4b84-8d67-c8f89b9b3d45"
      },
      "execution_count": null,
      "outputs": [
        {
          "output_type": "stream",
          "name": "stdout",
          "text": [
            "              precision    recall  f1-score   support\n",
            "\n",
            "           0       1.00      1.00      1.00        11\n",
            "           1       1.00      1.00      1.00       478\n",
            "           2       1.00      1.00      1.00         2\n",
            "           3       1.00      1.00      1.00         4\n",
            "\n",
            "    accuracy                           1.00       495\n",
            "   macro avg       1.00      1.00      1.00       495\n",
            "weighted avg       1.00      1.00      1.00       495\n",
            "\n",
            "Accuracy: 1.0\n"
          ]
        }
      ]
    },
    {
      "cell_type": "markdown",
      "source": [
        "**Decision Tree Variable Importance**"
      ],
      "metadata": {
        "id": "HmqMM5nVspQR"
      }
    },
    {
      "cell_type": "code",
      "source": [
        "from sklearn.tree import DecisionTreeClassifier\n",
        "classifier2=DecisionTreeClassifier()\n",
        "classifier2.fit(X_train,y_train)\n",
        "y_pred = classifier2.predict(X_test)"
      ],
      "metadata": {
        "id": "ZQgzId2Lsky1"
      },
      "execution_count": null,
      "outputs": []
    },
    {
      "cell_type": "code",
      "source": [
        "from sklearn.metrics import classification_report\n",
        "print(classification_report(y_pred,y_test))"
      ],
      "metadata": {
        "colab": {
          "base_uri": "https://localhost:8080/"
        },
        "id": "hBN872gssuIi",
        "outputId": "0f6f7c5a-5457-41e7-d11c-92d831c6ef73"
      },
      "execution_count": null,
      "outputs": [
        {
          "output_type": "stream",
          "name": "stdout",
          "text": [
            "              precision    recall  f1-score   support\n",
            "\n",
            "           0       0.00      0.00      0.00         4\n",
            "           1       0.97      0.97      0.97       160\n",
            "           2       0.00      0.00      0.00         1\n",
            "           3       1.00      1.00      1.00         1\n",
            "\n",
            "    accuracy                           0.94       166\n",
            "   macro avg       0.49      0.49      0.49       166\n",
            "weighted avg       0.94      0.94      0.94       166\n",
            "\n"
          ]
        },
        {
          "output_type": "stream",
          "name": "stderr",
          "text": [
            "/usr/local/lib/python3.9/dist-packages/sklearn/metrics/_classification.py:1344: UndefinedMetricWarning: Precision and F-score are ill-defined and being set to 0.0 in labels with no predicted samples. Use `zero_division` parameter to control this behavior.\n",
            "  _warn_prf(average, modifier, msg_start, len(result))\n",
            "/usr/local/lib/python3.9/dist-packages/sklearn/metrics/_classification.py:1344: UndefinedMetricWarning: Precision and F-score are ill-defined and being set to 0.0 in labels with no predicted samples. Use `zero_division` parameter to control this behavior.\n",
            "  _warn_prf(average, modifier, msg_start, len(result))\n",
            "/usr/local/lib/python3.9/dist-packages/sklearn/metrics/_classification.py:1344: UndefinedMetricWarning: Precision and F-score are ill-defined and being set to 0.0 in labels with no predicted samples. Use `zero_division` parameter to control this behavior.\n",
            "  _warn_prf(average, modifier, msg_start, len(result))\n"
          ]
        }
      ]
    },
    {
      "cell_type": "code",
      "source": [
        "from sklearn.metrics import accuracy_score\n",
        "print(\"Accuracy:\",accuracy_score(y_pred,y_test))"
      ],
      "metadata": {
        "colab": {
          "base_uri": "https://localhost:8080/"
        },
        "id": "BmfZrQ--svpN",
        "outputId": "f34992ce-029c-4fad-dd02-b08adc926c31"
      },
      "execution_count": null,
      "outputs": [
        {
          "output_type": "stream",
          "name": "stdout",
          "text": [
            "Accuracy: 0.9397590361445783\n"
          ]
        }
      ]
    },
    {
      "cell_type": "code",
      "source": [
        "y_pred2 = classifier2.predict(X_train)\n",
        "print(\"Accuracy:\",accuracy_score(y_pred2,y_train))"
      ],
      "metadata": {
        "colab": {
          "base_uri": "https://localhost:8080/"
        },
        "id": "uPNQ-cdwsxm9",
        "outputId": "bc66e195-a2b2-4037-a2e8-250a92aeb1c0"
      },
      "execution_count": null,
      "outputs": [
        {
          "output_type": "stream",
          "name": "stdout",
          "text": [
            "Accuracy: 1.0\n"
          ]
        }
      ]
    }
  ]
}