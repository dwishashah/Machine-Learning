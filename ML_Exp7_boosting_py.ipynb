{
  "nbformat": 4,
  "nbformat_minor": 0,
  "metadata": {
    "colab": {
      "provenance": [],
      "authorship_tag": "ABX9TyOfmsBHNleOItrQqbn38BW4",
      "include_colab_link": true
    },
    "kernelspec": {
      "name": "python3",
      "display_name": "Python 3"
    },
    "language_info": {
      "name": "python"
    }
  },
  "cells": [
    {
      "cell_type": "markdown",
      "metadata": {
        "id": "view-in-github",
        "colab_type": "text"
      },
      "source": [
        "<a href=\"https://colab.research.google.com/github/dwishashah/Machine-Learning/blob/main/ML_Exp7_boosting_py.ipynb\" target=\"_parent\"><img src=\"https://colab.research.google.com/assets/colab-badge.svg\" alt=\"Open In Colab\"/></a>"
      ]
    },
    {
      "cell_type": "code",
      "source": [
        "import warnings\n",
        "warnings.filterwarnings(\"ignore\")"
      ],
      "metadata": {
        "id": "9NItaZqlggYS"
      },
      "execution_count": null,
      "outputs": []
    },
    {
      "cell_type": "code",
      "execution_count": null,
      "metadata": {
        "id": "90NqGogXDrfx"
      },
      "outputs": [],
      "source": [
        "#Task 1:\n",
        "\n",
        "import pandas as pd\n",
        "from sklearn.datasets import make_classification\n",
        "from sklearn.model_selection import cross_val_score\n",
        "from sklearn.tree import DecisionTreeClassifier\n",
        "from sklearn.linear_model import LogisticRegression\n",
        "from sklearn.ensemble import AdaBoostClassifier"
      ]
    },
    {
      "cell_type": "code",
      "source": [
        "# Generating synthetic dataset (Dataset 1)\n",
        "X, y = make_classification(n_samples=1000, n_features=20, n_informative=15, n_redundant=5, random_state=42)"
      ],
      "metadata": {
        "id": "1MGUp7HsFYHC"
      },
      "execution_count": null,
      "outputs": []
    },
    {
      "cell_type": "code",
      "source": [
        "from sklearn.model_selection import train_test_split\n",
        "X_train,X_test,y_train,y_test = train_test_split(X,y,test_size=0.2,random_state=200) "
      ],
      "metadata": {
        "id": "ffrrn23wIYKb"
      },
      "execution_count": null,
      "outputs": []
    },
    {
      "cell_type": "code",
      "source": [
        "from sklearn.ensemble import AdaBoostClassifier\n",
        "clf = AdaBoostClassifier()\n",
        "clf = clf.fit(X_train,y_train)\n",
        "y_pred = clf.predict(X_test)"
      ],
      "metadata": {
        "id": "0L-myM4CIh2Q"
      },
      "execution_count": null,
      "outputs": []
    },
    {
      "cell_type": "code",
      "source": [
        "from sklearn.metrics import accuracy_score,confusion_matrix\n",
        "print(\"Accuracy:\",accuracy_score(y_test,y_pred))"
      ],
      "metadata": {
        "colab": {
          "base_uri": "https://localhost:8080/"
        },
        "id": "xzI9WR4SIXXT",
        "outputId": "e600aaf7-ac14-4564-ae54-865067048e19"
      },
      "execution_count": null,
      "outputs": [
        {
          "output_type": "stream",
          "name": "stdout",
          "text": [
            "Accuracy: 0.875\n"
          ]
        }
      ]
    },
    {
      "cell_type": "code",
      "source": [
        "from sklearn.linear_model import LogisticRegression\n",
        "lr = LogisticRegression()\n",
        "clf = AdaBoostClassifier(base_estimator = lr)\n",
        "clf = clf.fit(X_train,y_train)\n",
        "y_pred1 = clf.predict(X_test)\n",
        "from sklearn.metrics import accuracy_score,confusion_matrix\n",
        "print(\"Accuracy:\",accuracy_score(y_test,y_pred1))"
      ],
      "metadata": {
        "colab": {
          "base_uri": "https://localhost:8080/"
        },
        "id": "6yepifMXJ5oZ",
        "outputId": "d4b35f2f-67c7-4a05-fd20-7933d907549d"
      },
      "execution_count": null,
      "outputs": [
        {
          "output_type": "stream",
          "name": "stdout",
          "text": [
            "Accuracy: 0.85\n"
          ]
        }
      ]
    },
    {
      "cell_type": "code",
      "source": [
        "X_train, X_test, y_train, y_test = train_test_split(X, y, test_size=0.2, random_state=42)\n",
        "base_estimator = DecisionTreeClassifier(max_depth=1, random_state=42)\n",
        "ada = AdaBoostClassifier(base_estimator=base_estimator, random_state=42)\n",
        "ada.fit(X_train, y_train)\n",
        "y_pred = ada.predict(X_test)\n",
        "accuracy = accuracy_score(y_test, y_pred)\n",
        "print(\"Accuracy:\", accuracy)"
      ],
      "metadata": {
        "colab": {
          "base_uri": "https://localhost:8080/"
        },
        "id": "AsQWGvuCPWtr",
        "outputId": "8ca289f6-c2d2-43b4-ce63-2adb6e26c504"
      },
      "execution_count": null,
      "outputs": [
        {
          "output_type": "stream",
          "name": "stdout",
          "text": [
            "Accuracy: 0.83\n"
          ]
        }
      ]
    },
    {
      "cell_type": "code",
      "source": [
        "from sklearn.tree import DecisionTreeClassifier\n",
        "max_depth = [1,2,3,4,5,6,7,8,9,10,11]\n",
        "\n",
        "for i in max_depth:\n",
        "  dtc = DecisionTreeClassifier(max_depth = i, random_state=42)\n",
        "  ada = AdaBoostClassifier(base_estimator = dtc)\n",
        "  ada.fit(X_train,y_train)\n",
        "  y_pred2 = ada.predict(X_test)\n",
        "  print(f\"\\nMax Depth:{i}\")\n",
        "  print(f\"Accuracy = {accuracy_score(y_pred2,y_test)}\")"
      ],
      "metadata": {
        "colab": {
          "base_uri": "https://localhost:8080/"
        },
        "id": "vwgspWHQK21a",
        "outputId": "7a9100dc-5a12-4b44-c3d6-39b1bd307ad8"
      },
      "execution_count": null,
      "outputs": [
        {
          "output_type": "stream",
          "name": "stdout",
          "text": [
            "\n",
            "Max Depth:1\n",
            "Accuracy = 0.83\n",
            "\n",
            "Max Depth:2\n",
            "Accuracy = 0.9\n",
            "\n",
            "Max Depth:3\n",
            "Accuracy = 0.875\n",
            "\n",
            "Max Depth:4\n",
            "Accuracy = 0.92\n",
            "\n",
            "Max Depth:5\n",
            "Accuracy = 0.95\n",
            "\n",
            "Max Depth:6\n",
            "Accuracy = 0.935\n",
            "\n",
            "Max Depth:7\n",
            "Accuracy = 0.92\n",
            "\n",
            "Max Depth:8\n",
            "Accuracy = 0.945\n",
            "\n",
            "Max Depth:9\n",
            "Accuracy = 0.925\n",
            "\n",
            "Max Depth:10\n",
            "Accuracy = 0.95\n",
            "\n",
            "Max Depth:11\n",
            "Accuracy = 0.815\n"
          ]
        }
      ]
    },
    {
      "cell_type": "code",
      "source": [
        "learning_rate = [0.1,0.3,0.5,0.7,0.9,0.21,0.23,0.87,0.25,0.45,0.61]\n",
        "\n",
        "for i in learning_rate:\n",
        "  dtc = DecisionTreeClassifier(random_state=42)\n",
        "  ada = AdaBoostClassifier(base_estimator = dtc,learning_rate=i)\n",
        "  ada.fit(X_train,y_train)\n",
        "  y_pred3 = ada.predict(X_test)\n",
        "  print(f\"\\nLearning Rate:{i}\")\n",
        "  print(f\"Accuracy = {accuracy_score(y_pred3,y_test)}\")"
      ],
      "metadata": {
        "colab": {
          "base_uri": "https://localhost:8080/"
        },
        "id": "fD3XptNZQXTy",
        "outputId": "6346e9b7-48f2-4cb0-bc08-80440d8944e5"
      },
      "execution_count": null,
      "outputs": [
        {
          "output_type": "stream",
          "name": "stdout",
          "text": [
            "\n",
            "Learning Rate:0.1\n",
            "Accuracy = 0.81\n",
            "\n",
            "Learning Rate:0.3\n",
            "Accuracy = 0.8\n",
            "\n",
            "Learning Rate:0.5\n",
            "Accuracy = 0.79\n",
            "\n",
            "Learning Rate:0.7\n",
            "Accuracy = 0.785\n",
            "\n",
            "Learning Rate:0.9\n",
            "Accuracy = 0.79\n",
            "\n",
            "Learning Rate:0.21\n",
            "Accuracy = 0.805\n",
            "\n",
            "Learning Rate:0.23\n",
            "Accuracy = 0.81\n",
            "\n",
            "Learning Rate:0.87\n",
            "Accuracy = 0.79\n",
            "\n",
            "Learning Rate:0.25\n",
            "Accuracy = 0.795\n",
            "\n",
            "Learning Rate:0.45\n",
            "Accuracy = 0.79\n",
            "\n",
            "Learning Rate:0.61\n",
            "Accuracy = 0.81\n"
          ]
        }
      ]
    },
    {
      "cell_type": "code",
      "source": [
        "from sklearn.model_selection import KFold\n",
        "from sklearn.model_selection import cross_val_score\n",
        "from sklearn.model_selection import RepeatedStratifiedKFold\n",
        "\n",
        "def get_models():\n",
        "  models = []\n",
        "  for max_depth in range(1, 11):\n",
        "    dtc = DecisionTreeClassifier(max_depth=max_depth, random_state=42)\n",
        "    ada = AdaBoostClassifier(estimator=dtc, random_state=42)\n",
        "    models.append(ada)\n",
        "  return models\n",
        "\n",
        "def evaluate_model(model, X, y):\n",
        "  kfold = KFold(n_splits=10, shuffle=True, random_state=42)\n",
        "  scores = cross_val_score(model, X, y, cv=kfold)\n",
        "  print(f\"Accuracy: {scores.mean():.3f}\")\n",
        "  \n",
        "models = get_models()\n",
        "\n",
        "for model in models:\n",
        "  evaluate_model(model, X, y)"
      ],
      "metadata": {
        "colab": {
          "base_uri": "https://localhost:8080/"
        },
        "id": "jo43sG81RmFo",
        "outputId": "91b0588b-af74-4ae6-fcba-6de416de9df9"
      },
      "execution_count": null,
      "outputs": [
        {
          "output_type": "stream",
          "name": "stdout",
          "text": [
            "Accuracy: 0.809\n",
            "Accuracy: 0.870\n",
            "Accuracy: 0.879\n",
            "Accuracy: 0.888\n",
            "Accuracy: 0.924\n",
            "Accuracy: 0.934\n",
            "Accuracy: 0.926\n",
            "Accuracy: 0.940\n",
            "Accuracy: 0.924\n",
            "Accuracy: 0.939\n"
          ]
        }
      ]
    },
    {
      "cell_type": "code",
      "source": [
        "def get_models():\n",
        "  models = []\n",
        "  for lr in [0.1,2.1,0.1]:\n",
        "    dtc = DecisionTreeClassifier(max_depth=2, random_state=42)\n",
        "    ada = AdaBoostClassifier(estimator=dtc, learning_rate=lr, random_state=42)\n",
        "    models.append(ada)\n",
        "  return models\n",
        "\n",
        "def evaluate_model(model, X, y):\n",
        "  kfold = KFold(n_splits=10, shuffle=True, random_state=101)\n",
        "  scores = cross_val_score(model, X, y, cv=kfold)\n",
        "  print(f\"Learning rate: {model.learning_rate:.2f}, Accuracy: {scores.mean():.3f}\")\n",
        "\n",
        "models = get_models()\n",
        "for model in models:\n",
        "  evaluate_model(model, X, y)"
      ],
      "metadata": {
        "colab": {
          "base_uri": "https://localhost:8080/"
        },
        "id": "ggHbEqvpUsHh",
        "outputId": "5c8c657c-47c7-4fab-e2de-6b78f1ae99a1"
      },
      "execution_count": null,
      "outputs": [
        {
          "output_type": "stream",
          "name": "stdout",
          "text": [
            "Learning rate: 0.10, Accuracy: 0.856\n",
            "Learning rate: 2.10, Accuracy: 0.517\n",
            "Learning rate: 0.10, Accuracy: 0.856\n"
          ]
        }
      ]
    },
    {
      "cell_type": "code",
      "source": [
        "from sklearn.tree import DecisionTreeClassifier\n",
        "from sklearn.ensemble import AdaBoostClassifier\n",
        "from sklearn.model_selection import GridSearchCV\n",
        "\n",
        "param_grid = {'n_estimators': [10, 50, 100, 500],'learning_rate': [0.0001, 0.001, 0.01, 0.1, 1.0]}\n",
        "ada = AdaBoostClassifier(random_state=42)\n",
        "grid_search = GridSearchCV(estimator=ada, param_grid=param_grid, cv=5, n_jobs=-1)\n",
        "grid_search.fit(X_train, y_train)\n",
        "\n",
        "print(\"Best parameters:\", grid_search.best_params_)\n",
        "print(\"Best score:\", grid_search.best_score_)"
      ],
      "metadata": {
        "colab": {
          "base_uri": "https://localhost:8080/"
        },
        "id": "v808z8nwX6in",
        "outputId": "2fc6d322-9196-4751-9488-836ceb591c29"
      },
      "execution_count": null,
      "outputs": [
        {
          "output_type": "stream",
          "name": "stdout",
          "text": [
            "Best parameters: {'learning_rate': 0.1, 'n_estimators': 500}\n",
            "Best score: 0.83625\n"
          ]
        }
      ]
    },
    {
      "cell_type": "code",
      "source": [
        "import matplotlib.pyplot as plt\n",
        "\n",
        "fig = plt.figure(figsize =(10, 7))\n",
        "ax = fig.add_subplot(111)\n",
        "bp = ax.boxplot([dtc_acc, ada_acc], labels=['Decision Tree Classifier', 'AdaBoost Classifier with Decision Tree base learner'])\n",
        "ax.set_title('Comparison of Decision Tree Classifier and AdaBoost Classifier with Decision Tree base learner')\n",
        "ax.set_ylabel('Accuracy')\n",
        "plt.show()"
      ],
      "metadata": {
        "colab": {
          "base_uri": "https://localhost:8080/",
          "height": 1000
        },
        "id": "MfeU9B1BZ7nI",
        "outputId": "c9baa379-4a5a-4e52-feb1-0f4d5e0a6b99"
      },
      "execution_count": null,
      "outputs": [
        {
          "output_type": "error",
          "ename": "ValueError",
          "evalue": "ignored",
          "traceback": [
            "\u001b[0;31m---------------------------------------------------------------------------\u001b[0m",
            "\u001b[0;31mValueError\u001b[0m                                Traceback (most recent call last)",
            "\u001b[0;32m<ipython-input-18-1d874538a429>\u001b[0m in \u001b[0;36m<cell line: 5>\u001b[0;34m()\u001b[0m\n\u001b[1;32m      3\u001b[0m \u001b[0mfig\u001b[0m \u001b[0;34m=\u001b[0m \u001b[0mplt\u001b[0m\u001b[0;34m.\u001b[0m\u001b[0mfigure\u001b[0m\u001b[0;34m(\u001b[0m\u001b[0mfigsize\u001b[0m \u001b[0;34m=\u001b[0m\u001b[0;34m(\u001b[0m\u001b[0;36m10\u001b[0m\u001b[0;34m,\u001b[0m \u001b[0;36m7\u001b[0m\u001b[0;34m)\u001b[0m\u001b[0;34m)\u001b[0m\u001b[0;34m\u001b[0m\u001b[0;34m\u001b[0m\u001b[0m\n\u001b[1;32m      4\u001b[0m \u001b[0max\u001b[0m \u001b[0;34m=\u001b[0m \u001b[0mfig\u001b[0m\u001b[0;34m.\u001b[0m\u001b[0madd_subplot\u001b[0m\u001b[0;34m(\u001b[0m\u001b[0;36m111\u001b[0m\u001b[0;34m)\u001b[0m\u001b[0;34m\u001b[0m\u001b[0;34m\u001b[0m\u001b[0m\n\u001b[0;32m----> 5\u001b[0;31m \u001b[0mbp\u001b[0m \u001b[0;34m=\u001b[0m \u001b[0max\u001b[0m\u001b[0;34m.\u001b[0m\u001b[0mboxplot\u001b[0m\u001b[0;34m(\u001b[0m\u001b[0;34m[\u001b[0m\u001b[0mdtc_acc\u001b[0m\u001b[0;34m,\u001b[0m \u001b[0mada_acc\u001b[0m\u001b[0;34m]\u001b[0m\u001b[0;34m,\u001b[0m \u001b[0mlabels\u001b[0m\u001b[0;34m=\u001b[0m\u001b[0;34m[\u001b[0m\u001b[0;34m'Decision Tree Classifier'\u001b[0m\u001b[0;34m,\u001b[0m \u001b[0;34m'AdaBoost Classifier with Decision Tree base learner'\u001b[0m\u001b[0;34m]\u001b[0m\u001b[0;34m)\u001b[0m\u001b[0;34m\u001b[0m\u001b[0;34m\u001b[0m\u001b[0m\n\u001b[0m\u001b[1;32m      6\u001b[0m \u001b[0max\u001b[0m\u001b[0;34m.\u001b[0m\u001b[0mset_title\u001b[0m\u001b[0;34m(\u001b[0m\u001b[0;34m'Comparison of Decision Tree Classifier and AdaBoost Classifier with Decision Tree base learner'\u001b[0m\u001b[0;34m)\u001b[0m\u001b[0;34m\u001b[0m\u001b[0;34m\u001b[0m\u001b[0m\n\u001b[1;32m      7\u001b[0m \u001b[0max\u001b[0m\u001b[0;34m.\u001b[0m\u001b[0mset_ylabel\u001b[0m\u001b[0;34m(\u001b[0m\u001b[0;34m'Accuracy'\u001b[0m\u001b[0;34m)\u001b[0m\u001b[0;34m\u001b[0m\u001b[0;34m\u001b[0m\u001b[0m\n",
            "\u001b[0;32m/usr/local/lib/python3.9/dist-packages/matplotlib/__init__.py\u001b[0m in \u001b[0;36minner\u001b[0;34m(ax, data, *args, **kwargs)\u001b[0m\n\u001b[1;32m   1440\u001b[0m     \u001b[0;32mdef\u001b[0m \u001b[0minner\u001b[0m\u001b[0;34m(\u001b[0m\u001b[0max\u001b[0m\u001b[0;34m,\u001b[0m \u001b[0;34m*\u001b[0m\u001b[0margs\u001b[0m\u001b[0;34m,\u001b[0m \u001b[0mdata\u001b[0m\u001b[0;34m=\u001b[0m\u001b[0;32mNone\u001b[0m\u001b[0;34m,\u001b[0m \u001b[0;34m**\u001b[0m\u001b[0mkwargs\u001b[0m\u001b[0;34m)\u001b[0m\u001b[0;34m:\u001b[0m\u001b[0;34m\u001b[0m\u001b[0;34m\u001b[0m\u001b[0m\n\u001b[1;32m   1441\u001b[0m         \u001b[0;32mif\u001b[0m \u001b[0mdata\u001b[0m \u001b[0;32mis\u001b[0m \u001b[0;32mNone\u001b[0m\u001b[0;34m:\u001b[0m\u001b[0;34m\u001b[0m\u001b[0;34m\u001b[0m\u001b[0m\n\u001b[0;32m-> 1442\u001b[0;31m             \u001b[0;32mreturn\u001b[0m \u001b[0mfunc\u001b[0m\u001b[0;34m(\u001b[0m\u001b[0max\u001b[0m\u001b[0;34m,\u001b[0m \u001b[0;34m*\u001b[0m\u001b[0mmap\u001b[0m\u001b[0;34m(\u001b[0m\u001b[0msanitize_sequence\u001b[0m\u001b[0;34m,\u001b[0m \u001b[0margs\u001b[0m\u001b[0;34m)\u001b[0m\u001b[0;34m,\u001b[0m \u001b[0;34m**\u001b[0m\u001b[0mkwargs\u001b[0m\u001b[0;34m)\u001b[0m\u001b[0;34m\u001b[0m\u001b[0;34m\u001b[0m\u001b[0m\n\u001b[0m\u001b[1;32m   1443\u001b[0m \u001b[0;34m\u001b[0m\u001b[0m\n\u001b[1;32m   1444\u001b[0m         \u001b[0mbound\u001b[0m \u001b[0;34m=\u001b[0m \u001b[0mnew_sig\u001b[0m\u001b[0;34m.\u001b[0m\u001b[0mbind\u001b[0m\u001b[0;34m(\u001b[0m\u001b[0max\u001b[0m\u001b[0;34m,\u001b[0m \u001b[0;34m*\u001b[0m\u001b[0margs\u001b[0m\u001b[0;34m,\u001b[0m \u001b[0;34m**\u001b[0m\u001b[0mkwargs\u001b[0m\u001b[0;34m)\u001b[0m\u001b[0;34m\u001b[0m\u001b[0;34m\u001b[0m\u001b[0m\n",
            "\u001b[0;32m/usr/local/lib/python3.9/dist-packages/matplotlib/axes/_axes.py\u001b[0m in \u001b[0;36mboxplot\u001b[0;34m(self, x, notch, sym, vert, whis, positions, widths, patch_artist, bootstrap, usermedians, conf_intervals, meanline, showmeans, showcaps, showbox, showfliers, boxprops, labels, flierprops, medianprops, meanprops, capprops, whiskerprops, manage_ticks, autorange, zorder, capwidths)\u001b[0m\n\u001b[1;32m   3912\u001b[0m             \u001b[0mbootstrap\u001b[0m \u001b[0;34m=\u001b[0m \u001b[0mmpl\u001b[0m\u001b[0;34m.\u001b[0m\u001b[0mrcParams\u001b[0m\u001b[0;34m[\u001b[0m\u001b[0;34m'boxplot.bootstrap'\u001b[0m\u001b[0;34m]\u001b[0m\u001b[0;34m\u001b[0m\u001b[0;34m\u001b[0m\u001b[0m\n\u001b[1;32m   3913\u001b[0m \u001b[0;34m\u001b[0m\u001b[0m\n\u001b[0;32m-> 3914\u001b[0;31m         bxpstats = cbook.boxplot_stats(x, whis=whis, bootstrap=bootstrap,\n\u001b[0m\u001b[1;32m   3915\u001b[0m                                        labels=labels, autorange=autorange)\n\u001b[1;32m   3916\u001b[0m         \u001b[0;32mif\u001b[0m \u001b[0mnotch\u001b[0m \u001b[0;32mis\u001b[0m \u001b[0;32mNone\u001b[0m\u001b[0;34m:\u001b[0m\u001b[0;34m\u001b[0m\u001b[0;34m\u001b[0m\u001b[0m\n",
            "\u001b[0;32m/usr/local/lib/python3.9/dist-packages/matplotlib/cbook/__init__.py\u001b[0m in \u001b[0;36mboxplot_stats\u001b[0;34m(X, whis, bootstrap, labels, autorange)\u001b[0m\n\u001b[1;32m   1196\u001b[0m         \u001b[0mlabels\u001b[0m \u001b[0;34m=\u001b[0m \u001b[0mitertools\u001b[0m\u001b[0;34m.\u001b[0m\u001b[0mrepeat\u001b[0m\u001b[0;34m(\u001b[0m\u001b[0;32mNone\u001b[0m\u001b[0;34m)\u001b[0m\u001b[0;34m\u001b[0m\u001b[0;34m\u001b[0m\u001b[0m\n\u001b[1;32m   1197\u001b[0m     \u001b[0;32melif\u001b[0m \u001b[0mlen\u001b[0m\u001b[0;34m(\u001b[0m\u001b[0mlabels\u001b[0m\u001b[0;34m)\u001b[0m \u001b[0;34m!=\u001b[0m \u001b[0mncols\u001b[0m\u001b[0;34m:\u001b[0m\u001b[0;34m\u001b[0m\u001b[0;34m\u001b[0m\u001b[0m\n\u001b[0;32m-> 1198\u001b[0;31m         \u001b[0;32mraise\u001b[0m \u001b[0mValueError\u001b[0m\u001b[0;34m(\u001b[0m\u001b[0;34m\"Dimensions of labels and X must be compatible\"\u001b[0m\u001b[0;34m)\u001b[0m\u001b[0;34m\u001b[0m\u001b[0;34m\u001b[0m\u001b[0m\n\u001b[0m\u001b[1;32m   1199\u001b[0m \u001b[0;34m\u001b[0m\u001b[0m\n\u001b[1;32m   1200\u001b[0m     \u001b[0minput_whis\u001b[0m \u001b[0;34m=\u001b[0m \u001b[0mwhis\u001b[0m\u001b[0;34m\u001b[0m\u001b[0;34m\u001b[0m\u001b[0m\n",
            "\u001b[0;31mValueError\u001b[0m: Dimensions of labels and X must be compatible"
          ]
        },
        {
          "output_type": "display_data",
          "data": {
            "text/plain": [
              "<Figure size 1000x700 with 1 Axes>"
            ],
            "image/png": "[encoded data removed]"
          },
          "metadata": {}
        }
      ]
    },
    {
      "cell_type": "code",
      "source": [],
      "metadata": {
        "id": "dsPL_DRzeAs_"
      },
      "execution_count": null,
      "outputs": []
    }
  ]
}